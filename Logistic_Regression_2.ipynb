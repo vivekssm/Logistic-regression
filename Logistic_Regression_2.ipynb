{
 "cells": [
  {
   "cell_type": "code",
   "execution_count": 32,
   "id": "209b665e",
   "metadata": {},
   "outputs": [],
   "source": [
    "import numpy as np\n",
    "import matplotlib.pyplot as plt"
   ]
  },
  {
   "cell_type": "code",
   "execution_count": 4,
   "id": "764381e8",
   "metadata": {},
   "outputs": [],
   "source": [
    "y = np.random.randint(0,2, size=100)"
   ]
  },
  {
   "cell_type": "code",
   "execution_count": 5,
   "id": "2b98d9fd",
   "metadata": {},
   "outputs": [
    {
     "data": {
      "text/plain": [
       "array([1, 0, 0, 1, 0, 1, 1, 0, 0, 0, 1, 1, 1, 0, 0, 1, 0, 0, 1, 1, 1, 1,\n",
       "       0, 0, 0, 1, 0, 0, 1, 0, 1, 1, 1, 1, 1, 0, 1, 1, 0, 1, 1, 0, 1, 0,\n",
       "       0, 1, 1, 1, 0, 1, 1, 0, 1, 0, 0, 0, 0, 0, 0, 1, 1, 1, 0, 1, 1, 1,\n",
       "       1, 0, 0, 0, 0, 1, 1, 1, 1, 1, 1, 1, 0, 1, 0, 0, 1, 1, 0, 0, 0, 1,\n",
       "       0, 1, 1, 0, 0, 1, 0, 0, 1, 1, 0, 1])"
      ]
     },
     "execution_count": 5,
     "metadata": {},
     "output_type": "execute_result"
    }
   ],
   "source": [
    "y"
   ]
  },
  {
   "cell_type": "code",
   "execution_count": 6,
   "id": "b3f93b03",
   "metadata": {},
   "outputs": [],
   "source": [
    "def logloss(y, yhat):\n",
    "    return -y*np.log(yhat)-(1-y)*np.log(1-yhat)"
   ]
  },
  {
   "cell_type": "code",
   "execution_count": 7,
   "id": "373b9632",
   "metadata": {},
   "outputs": [
    {
     "data": {
      "text/plain": [
       "0.10536051565782628"
      ]
     },
     "execution_count": 7,
     "metadata": {},
     "output_type": "execute_result"
    }
   ],
   "source": [
    "y = 1\n",
    "yhat = 0.9\n",
    "\n",
    "logloss(y, yhat)"
   ]
  },
  {
   "cell_type": "code",
   "execution_count": 8,
   "id": "7574249d",
   "metadata": {},
   "outputs": [
    {
     "data": {
      "text/plain": [
       "0.05129329438755058"
      ]
     },
     "execution_count": 8,
     "metadata": {},
     "output_type": "execute_result"
    }
   ],
   "source": [
    "y = 1\n",
    "yhat = 0.95\n",
    "\n",
    "logloss(y, yhat)"
   ]
  },
  {
   "cell_type": "code",
   "execution_count": 9,
   "id": "bcc45064",
   "metadata": {},
   "outputs": [
    {
     "data": {
      "text/plain": [
       "0.01005033585350145"
      ]
     },
     "execution_count": 9,
     "metadata": {},
     "output_type": "execute_result"
    }
   ],
   "source": [
    "y = 1\n",
    "yhat = 0.99\n",
    "\n",
    "logloss(y, yhat)"
   ]
  },
  {
   "cell_type": "code",
   "execution_count": 10,
   "id": "ef5ba77f",
   "metadata": {},
   "outputs": [
    {
     "data": {
      "text/plain": [
       "0.6931471805599453"
      ]
     },
     "execution_count": 10,
     "metadata": {},
     "output_type": "execute_result"
    }
   ],
   "source": [
    "y = 1\n",
    "yhat = 0.5\n",
    "\n",
    "logloss(y, yhat)"
   ]
  },
  {
   "cell_type": "code",
   "execution_count": 11,
   "id": "3d5a95fd",
   "metadata": {},
   "outputs": [
    {
     "data": {
      "text/plain": [
       "1.2039728043259361"
      ]
     },
     "execution_count": 11,
     "metadata": {},
     "output_type": "execute_result"
    }
   ],
   "source": [
    "y = 1\n",
    "yhat = 0.3\n",
    "\n",
    "logloss(y, yhat)"
   ]
  },
  {
   "cell_type": "code",
   "execution_count": 14,
   "id": "116b2956",
   "metadata": {},
   "outputs": [
    {
     "data": {
      "text/plain": [
       "2.3025850929940455"
      ]
     },
     "execution_count": 14,
     "metadata": {},
     "output_type": "execute_result"
    }
   ],
   "source": [
    "y = 1\n",
    "yhat = 0.1\n",
    "\n",
    "logloss(y, yhat)"
   ]
  },
  {
   "cell_type": "markdown",
   "id": "4e7561c6",
   "metadata": {},
   "source": [
    "# Logisitic Regression"
   ]
  },
  {
   "cell_type": "code",
   "execution_count": 15,
   "id": "23b4ab62",
   "metadata": {},
   "outputs": [],
   "source": [
    "def sigmoid(z):\n",
    "    return 1/(1+ np.exp(-z))"
   ]
  },
  {
   "cell_type": "code",
   "execution_count": 17,
   "id": "21658b7f",
   "metadata": {},
   "outputs": [],
   "source": [
    "def predict(X, weights):\n",
    "    z = np.dot(X, weights)\n",
    "    return sigmoid(z)"
   ]
  },
  {
   "cell_type": "code",
   "execution_count": 18,
   "id": "6d9e60f2",
   "metadata": {},
   "outputs": [],
   "source": [
    "def error(X, Y, weights):\n",
    "    \n",
    "    Yhat = predict(X, weights)\n",
    "    \n",
    "    err = np.mean(Y*np.log(Yhat) + (1-Y)*np.log(1-Yhat))\n",
    "    \n",
    "    return -err "
   ]
  },
  {
   "cell_type": "code",
   "execution_count": 19,
   "id": "d3149c0b",
   "metadata": {},
   "outputs": [],
   "source": [
    "def gradient(X, Y, weights):\n",
    "    \n",
    "    n = X.shape[0]\n",
    "    \n",
    "    Y_hat = predict(X, weights) \n",
    "    grad = np.dot(X.T, Y - Y_hat)\n",
    "    \n",
    "    grad = (grad*-2)/n\n",
    "    \n",
    "    return grad"
   ]
  },
  {
   "cell_type": "code",
   "execution_count": 21,
   "id": "9744711b",
   "metadata": {},
   "outputs": [],
   "source": [
    "def gradient_descent(X, Y, epochs=800, learning_rate =0.1): \n",
    "    \n",
    "    weights = np.zeros((X.shape[1],1)) \n",
    "    error_list = [] \n",
    "    \n",
    "    \n",
    "    for i in range(epochs): \n",
    "        # Compute grad \n",
    "        grad = gradient(X,Y,weights) \n",
    "        \n",
    "        e = error(X,Y,weights) \n",
    "        error_list.append(e) \n",
    "        \n",
    "        #Update weights \n",
    "        weights = weights - learning_rate*grad\n",
    "        \n",
    "\n",
    "    \n",
    "    return weights, error_list"
   ]
  },
  {
   "cell_type": "code",
   "execution_count": null,
   "id": "cb65bb88",
   "metadata": {},
   "outputs": [],
   "source": []
  },
  {
   "cell_type": "markdown",
   "id": "d0e10256",
   "metadata": {},
   "source": [
    "### Simulate Data"
   ]
  },
  {
   "cell_type": "code",
   "execution_count": 23,
   "id": "37a9a5e3",
   "metadata": {},
   "outputs": [],
   "source": [
    "from sklearn.datasets import make_classification"
   ]
  },
  {
   "cell_type": "code",
   "execution_count": 25,
   "id": "920c1ca9",
   "metadata": {},
   "outputs": [],
   "source": [
    "X, y = make_classification(n_samples=500, n_features=2, n_redundant=0, n_clusters_per_class=1, random_state=5)"
   ]
  },
  {
   "cell_type": "code",
   "execution_count": 26,
   "id": "e8b9691f",
   "metadata": {},
   "outputs": [
    {
     "data": {
      "text/plain": [
       "(500, 2)"
      ]
     },
     "execution_count": 26,
     "metadata": {},
     "output_type": "execute_result"
    }
   ],
   "source": [
    "X.shape"
   ]
  },
  {
   "cell_type": "code",
   "execution_count": 28,
   "id": "1d7c452e",
   "metadata": {},
   "outputs": [
    {
     "data": {
      "text/plain": [
       "(500,)"
      ]
     },
     "execution_count": 28,
     "metadata": {},
     "output_type": "execute_result"
    }
   ],
   "source": [
    "y.shape"
   ]
  },
  {
   "cell_type": "code",
   "execution_count": 30,
   "id": "6f2c40ac",
   "metadata": {},
   "outputs": [],
   "source": [
    "y = y.reshape(500, 1)"
   ]
  },
  {
   "cell_type": "code",
   "execution_count": 31,
   "id": "d1a47302",
   "metadata": {},
   "outputs": [
    {
     "data": {
      "text/plain": [
       "(500, 1)"
      ]
     },
     "execution_count": 31,
     "metadata": {},
     "output_type": "execute_result"
    }
   ],
   "source": [
    "y.shape"
   ]
  },
  {
   "cell_type": "code",
   "execution_count": 33,
   "id": "370f1ffb",
   "metadata": {},
   "outputs": [
    {
     "data": {
      "text/plain": [
       "array([[ 1.22167239, -0.4757541 ],\n",
       "       [-0.2292072 , -1.85663378],\n",
       "       [-1.34913896,  0.50458721],\n",
       "       [ 0.31402206, -1.62029248],\n",
       "       [ 1.13807877, -0.99148158]])"
      ]
     },
     "execution_count": 33,
     "metadata": {},
     "output_type": "execute_result"
    }
   ],
   "source": [
    "X[:5]"
   ]
  },
  {
   "cell_type": "code",
   "execution_count": 36,
   "id": "089c64c7",
   "metadata": {},
   "outputs": [
    {
     "data": {
      "image/png": "[encoded data removed]",
      "text/plain": [
       "<Figure size 432x288 with 1 Axes>"
      ]
     },
     "metadata": {
      "needs_background": "light"
     },
     "output_type": "display_data"
    }
   ],
   "source": [
    "plt.scatter(X[:, 0], X[:, 1], c=y)\n",
    "plt.show()"
   ]
  },
  {
   "cell_type": "code",
   "execution_count": 39,
   "id": "5ffb7bdc",
   "metadata": {},
   "outputs": [
    {
     "data": {
      "text/plain": [
       "array([[ 1.        ,  1.22167239, -0.4757541 ],\n",
       "       [ 1.        , -0.2292072 , -1.85663378],\n",
       "       [ 1.        , -1.34913896,  0.50458721],\n",
       "       [ 1.        ,  0.31402206, -1.62029248],\n",
       "       [ 1.        ,  1.13807877, -0.99148158]])"
      ]
     },
     "execution_count": 39,
     "metadata": {},
     "output_type": "execute_result"
    }
   ],
   "source": [
    "ones = np.ones((500,1))\n",
    "X_ = np.hstack((ones, X))\n",
    "X_[:5]"
   ]
  },
  {
   "cell_type": "code",
   "execution_count": 40,
   "id": "72f1e6ee",
   "metadata": {},
   "outputs": [],
   "source": [
    "from sklearn.model_selection import train_test_split"
   ]
  },
  {
   "cell_type": "code",
   "execution_count": 46,
   "id": "42e5a145",
   "metadata": {},
   "outputs": [],
   "source": [
    "X_train, X_test, y_train, y_test = train_test_split(X_, y, test_size=0.2, random_state=42)"
   ]
  },
  {
   "cell_type": "code",
   "execution_count": 47,
   "id": "173fc389",
   "metadata": {},
   "outputs": [],
   "source": [
    "weights, loss = gradient_descent(X_train, y_train)"
   ]
  },
  {
   "cell_type": "code",
   "execution_count": 48,
   "id": "393c41c0",
   "metadata": {},
   "outputs": [
    {
     "data": {
      "text/plain": [
       "[<matplotlib.lines.Line2D at 0x7f8200685460>]"
      ]
     },
     "execution_count": 48,
     "metadata": {},
     "output_type": "execute_result"
    },
    {
     "data": {
      "image/png": "[encoded data removed]",
      "text/plain": [
       "<Figure size 432x288 with 1 Axes>"
      ]
     },
     "metadata": {
      "needs_background": "light"
     },
     "output_type": "display_data"
    }
   ],
   "source": [
    "plt.plot(loss)"
   ]
  },
  {
   "cell_type": "code",
   "execution_count": 49,
   "id": "6753cc77",
   "metadata": {},
   "outputs": [
    {
     "data": {
      "text/plain": [
       "array([[1.0806578 ],\n",
       "       [4.23158543],\n",
       "       [0.60152621]])"
      ]
     },
     "execution_count": 49,
     "metadata": {},
     "output_type": "execute_result"
    }
   ],
   "source": [
    "weights"
   ]
  },
  {
   "cell_type": "code",
   "execution_count": 57,
   "id": "1430cf44",
   "metadata": {},
   "outputs": [
    {
     "data": {
      "text/plain": [
       "array([[1.  ],\n",
       "       [0.98],\n",
       "       [0.99],\n",
       "       [0.16],\n",
       "       [0.03]])"
      ]
     },
     "execution_count": 57,
     "metadata": {},
     "output_type": "execute_result"
    }
   ],
   "source": [
    "predict(X_test, weights).round(2)[:5]"
   ]
  },
  {
   "cell_type": "code",
   "execution_count": 58,
   "id": "66204eaf",
   "metadata": {},
   "outputs": [],
   "source": [
    "y_pred = np.round(predict(X_test, weights).round(2))"
   ]
  },
  {
   "cell_type": "code",
   "execution_count": 60,
   "id": "671bc0f0",
   "metadata": {},
   "outputs": [
    {
     "data": {
      "text/plain": [
       "array([[1.],\n",
       "       [1.],\n",
       "       [1.],\n",
       "       [0.],\n",
       "       [0.]])"
      ]
     },
     "execution_count": 60,
     "metadata": {},
     "output_type": "execute_result"
    }
   ],
   "source": [
    "y_pred[:5]"
   ]
  },
  {
   "cell_type": "code",
   "execution_count": 61,
   "id": "b4f7ed2b",
   "metadata": {},
   "outputs": [
    {
     "data": {
      "text/plain": [
       "array([[1],\n",
       "       [1],\n",
       "       [1],\n",
       "       [0],\n",
       "       [0]])"
      ]
     },
     "execution_count": 61,
     "metadata": {},
     "output_type": "execute_result"
    }
   ],
   "source": [
    "y_test[:5]"
   ]
  },
  {
   "cell_type": "code",
   "execution_count": 64,
   "id": "6286ba33",
   "metadata": {},
   "outputs": [
    {
     "data": {
      "text/plain": [
       "0.95"
      ]
     },
     "execution_count": 64,
     "metadata": {},
     "output_type": "execute_result"
    }
   ],
   "source": []
  },
  {
   "cell_type": "code",
   "execution_count": 65,
   "id": "6c4d6512",
   "metadata": {},
   "outputs": [],
   "source": [
    "def accuracy(y_actual, y_pred):\n",
    "    '''These should be labels (0,1)'''\n",
    "    \n",
    "    return (y_pred == y_test).sum()/len(y_pred)"
   ]
  },
  {
   "cell_type": "code",
   "execution_count": 66,
   "id": "8752df01",
   "metadata": {},
   "outputs": [
    {
     "data": {
      "text/plain": [
       "0.95"
      ]
     },
     "execution_count": 66,
     "metadata": {},
     "output_type": "execute_result"
    }
   ],
   "source": [
    "accuracy(y_test, y_pred)"
   ]
  },
  {
   "cell_type": "code",
   "execution_count": null,
   "id": "aea5a160",
   "metadata": {},
   "outputs": [],
   "source": []
  },
  {
   "cell_type": "code",
   "execution_count": 73,
   "id": "638a8182",
   "metadata": {},
   "outputs": [],
   "source": [
    "f1 = np.array([-1, 1])"
   ]
  },
  {
   "cell_type": "code",
   "execution_count": 74,
   "id": "cd5371a6",
   "metadata": {},
   "outputs": [],
   "source": [
    "f2 = -(weights[0] + weights[1]*f1)/weights[2]"
   ]
  },
  {
   "cell_type": "code",
   "execution_count": 76,
   "id": "5fde24c0",
   "metadata": {},
   "outputs": [
    {
     "data": {
      "text/plain": [
       "(array([-1,  1]), array([ 5.23822166, -8.83127473]))"
      ]
     },
     "execution_count": 76,
     "metadata": {},
     "output_type": "execute_result"
    }
   ],
   "source": [
    "f1, f2"
   ]
  },
  {
   "cell_type": "code",
   "execution_count": 77,
   "id": "69ddcb04",
   "metadata": {},
   "outputs": [],
   "source": [
    "# (-1, 5.23) and (1, -8.83)"
   ]
  },
  {
   "cell_type": "code",
   "execution_count": 78,
   "id": "1aaadb14",
   "metadata": {},
   "outputs": [
    {
     "data": {
      "image/png": "[encoded data removed]",
      "text/plain": [
       "<Figure size 432x288 with 1 Axes>"
      ]
     },
     "metadata": {
      "needs_background": "light"
     },
     "output_type": "display_data"
    }
   ],
   "source": [
    "plt.scatter(X[:, 0], X[:, 1], c=y)\n",
    "plt.plot(f1, f2)\n",
    "plt.xlabel(\"f1\")\n",
    "plt.ylabel(\"f2\")\n",
    "plt.show()"
   ]
  },
  {
   "cell_type": "code",
   "execution_count": null,
   "id": "b17a050f",
   "metadata": {},
   "outputs": [],
   "source": []
  }
 ],
 "metadata": {
  "kernelspec": {
   "display_name": "Python 3",
   "language": "python",
   "name": "python3"
  },
  "language_info": {
   "codemirror_mode": {
    "name": "ipython",
    "version": 3
   },
   "file_extension": ".py",
   "mimetype": "text/x-python",
   "name": "python",
   "nbconvert_exporter": "python",
   "pygments_lexer": "ipython3",
   "version": "3.8.8"
  }
 },
 "nbformat": 4,
 "nbformat_minor": 5
}
